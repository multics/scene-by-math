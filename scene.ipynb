{
 "cells": [
  {
   "cell_type": "code",
   "execution_count": null,
   "id": "d720f0e7-3ab5-42ea-9103-554c4f875873",
   "metadata": {},
   "outputs": [],
   "source": [
    "import Pkg;\n",
    "Pkg.add(\"Plots\")\n",
    "Pkg.add(\"PlotlyJS\")"
   ]
  },
  {
   "cell_type": "code",
   "execution_count": null,
   "id": "3567d8ae-9ad1-49cf-a3c5-c844c80a8b96",
   "metadata": {},
   "outputs": [],
   "source": [
    "using Plots\n",
    "\n",
    "n1 = 100;\n",
    "u1 = range(-π, π; length = n1);\n",
    "v1 = range(0, π; length = n1);\n",
    "x1 = cos.(u1) * sin.(v1)';\n",
    "y1 = sin.(u1) * sin.(v1)';\n",
    "z1 = ones(n1) * cos.(v1)';\n",
    "\n",
    "plotly();\n",
    "# gr();\n",
    "surface(x1, y1, z1)"
   ]
  },
  {
   "cell_type": "code",
   "execution_count": null,
   "id": "0f049c71-e2dd-45bd-8e43-9bf2106eb47b",
   "metadata": {},
   "outputs": [],
   "source": [
    "deci(x) = x-trunc(x)\n",
    "\n",
    "norm1(a,b,x)=min(1.0,max(0.0,(x-a)/(b-a)))\n",
    "norm(a, b, x) = (x - a) / (b - a)\n",
    "smoothstep(a,b,x) = 3*norm(a,b,x)*norm(a,b,x) - 2*norm(a,b,x)*norm(a,b,x)*norm(a,b,x)\n",
    "s1(x)=smoothstep(0,1,x)\n",
    "\n",
    "println(deci(pi))\n",
    "println(norm(0,1,0.5))\n",
    "println(s1(0.5))\n",
    "\n",
    "deci.([1,1]/pi)\n",
    "\n",
    "function a(i,j)\n",
    "    uu = 50.0*deci(floor(i)/pi)\n",
    "    vv = 50.0*deci(floor(j)/pi)\n",
    "    return 2*deci(uu*vv*(uu+vv))-1\n",
    "end\n",
    "\n",
    "a(10,12)\n",
    "\n",
    "function f(i,j)\n",
    "    return(x,y)->a(i,j)+(a(i+1,j)-a(i,j))*s1(x-i)+(a(i,j+1)-a(i,j))*s1(y-j)+(a(i,j)-a(i+1,j)-a(i,j+1)+a(i+1,j+1))*s1(x-i)*s1(y-j)+1\n",
    "end\n",
    "\n",
    "println(f(1,1)(1.5,1.5))\n"
   ]
  },
  {
   "cell_type": "code",
   "execution_count": null,
   "id": "ca5e5446-81f9-4e2f-ac73-871249d38a24",
   "metadata": {},
   "outputs": [],
   "source": [
    "using Plots\n",
    "plotly(size=(2400, 1200))\n",
    "\n",
    "surface(0:0.1:100,0:0.1:100,(x,y)->f(floor(x),floor(y))(x,y))\n",
    "\n",
    "# p = plot()\n",
    "for i in 0:10\n",
    "    for j in 0:10\n",
    "        for mmm in i:0.1:i+1\n",
    "            for nnn in j:0.1:j+1\n",
    "                print(f(i,j)(mmm,nnn))\n",
    "            end\n",
    "            println()\n",
    "        end\n",
    "        let i = i, j = j\n",
    "            # println(i,j)\n",
    "            # surface!(p, i:0.01:i+1, j:0.01:j+1, f(i, j))\n",
    "            # surface(i:0.01:i+1, j:0.01:j+1, f(i, j))\n",
    "        end\n",
    "    end\n",
    "end\n"
   ]
  }
 ],
 "metadata": {
  "kernelspec": {
   "display_name": "Julia 1.10.0",
   "language": "julia",
   "name": "julia-1.10"
  },
  "language_info": {
   "file_extension": ".jl",
   "mimetype": "application/julia",
   "name": "julia",
   "version": "1.10.0"
  }
 },
 "nbformat": 4,
 "nbformat_minor": 5
}
